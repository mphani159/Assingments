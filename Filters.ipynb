{
 "cells": [
  {
   "cell_type": "code",
   "execution_count": null,
   "metadata": {},
   "outputs": [],
   "source": [
    "Identity = np.array([[0, 0, 0], [0, 1, 0], [0, 0, 0]])\n",
    "Edge = np.array([[1, 0, -1], [0, 0, 0], [-1, 0, 1]])\n",
    "Blur = np.ones((3, 3), np.float32)/9\n",
    "Sharpen = np.array([[0,-1,0],[-1, 5, -1],[0, -1, 0]])\n",
    "\n",
    "Identity = cv2.filter2D(src=img, kernel=Identity, ddepth=-1)\n",
    "Edge = cv2.filter2D(src=img, kernel=Edge, ddepth=-1)\n",
    "Blur = cv2.filter2D(src=img, kernel=Blur, ddepth=-1)\n",
    "Sharpen = cv2.filter2D(src=img, kernel=Sharpen, ddepth=-1)\n",
    "\n",
    "horizontalStack = np.concatenate((Identity, Edge, Blur, Sharpen), axis=1)\n",
    "\n",
    "cv2.imwrite(\"Output.jpg\", horizontalStack)\n",
    "\n",
    "cv2.imshow(\"2D Convolution Example\", horizontalStack)\n",
    "\n",
    "\n",
    "cv2.waitKey(0)\n",
    "cv2.destroyAllWindows()"
   ]
  }
 ],
 "metadata": {
  "kernelspec": {
   "display_name": "Python 3",
   "language": "python",
   "name": "python3"
  },
  "language_info": {
   "codemirror_mode": {
    "name": "ipython",
    "version": 3
   },
   "file_extension": ".py",
   "mimetype": "text/x-python",
   "name": "python",
   "nbconvert_exporter": "python",
   "pygments_lexer": "ipython3",
   "version": "3.8.3"
  }
 },
 "nbformat": 4,
 "nbformat_minor": 4
}
