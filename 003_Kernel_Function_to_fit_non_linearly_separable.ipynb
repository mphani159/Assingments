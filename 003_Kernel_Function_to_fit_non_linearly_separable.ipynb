{
  "nbformat": 4,
  "nbformat_minor": 0,
  "metadata": {
    "colab": {
      "name": "003-Kernel-Function-to-fit-non-linearly-separable.ipynb",
      "provenance": [],
      "authorship_tag": "ABX9TyMuh/QZrnnQIQw/Un4jKhn6",
      "include_colab_link": true
    },
    "kernelspec": {
      "name": "python3",
      "display_name": "Python 3"
    }
  },
  "cells": [
    {
      "cell_type": "markdown",
      "metadata": {
        "id": "view-in-github",
        "colab_type": "text"
      },
      "source": [
        "<a href=\"https://colab.research.google.com/github/SidharthArya/Deep_Learning_Class_Manit/blob/main/Assignments/003_Kernel_Function_to_fit_non_linearly_separable.ipynb\" target=\"_parent\"><img src=\"https://colab.research.google.com/assets/colab-badge.svg\" alt=\"Open In Colab\"/></a>"
      ]
    },
    {
      "cell_type": "code",
      "metadata": {
        "id": "AahGlQmlMe7U"
      },
      "source": [
        "import numpy as np\n",
        "import matplotlib.pyplot as plt\n",
        "import tqdm"
      ],
      "execution_count": 1,
      "outputs": []
    },
    {
      "cell_type": "code",
      "metadata": {
        "id": "NJNzpj3RMpv7"
      },
      "source": [
        "# Transfer/Activation Functions\n",
        "def step(x):\n",
        "  return x >= 0"
      ],
      "execution_count": 2,
      "outputs": []
    },
    {
      "cell_type": "code",
      "metadata": {
        "id": "d5upGD7dMrmw"
      },
      "source": [
        "class Perceptron:\n",
        "  def __init__(self,features=1, alpha=0.1, bias=np.random.normal(loc=0.0,scale=0.01), weights=None, activation=step):\n",
        "    if weights is None:\n",
        "      self.weights=np.random.normal(loc=0.0, scale=0.01, size=features).transpose()\n",
        "    else: self.weights = weights \n",
        "    self.activation = activation\n",
        "    self.alpha = alpha\n",
        "    self.bias=bias\n",
        "    self.features = features\n",
        "\n",
        "  def __predict(self, inputn): # Private Function\n",
        "    # implement prediction of 1 instance\n",
        "    if self.features is 1:\n",
        "      return self.activation(self.weights*inputn + self.bias)[0]\n",
        "    else:\n",
        "     return self.activation(self.weights.dot(inputn.transpose()) + self.bias)\n",
        "    \n",
        "      \n",
        "      \n",
        "  def cost(self, inputn, outputn ):\n",
        "    # Implement the cost function\n",
        "    return self.__predict(inputn) - outputn\n",
        "  \n",
        "\n",
        "  def predict(self, inputs):\n",
        "      if self.features is 1:\n",
        "        return self.activation(self.weights*(inputs) + self.bias)\n",
        "      else:\n",
        "        return self.activation(self.weights.dot(inputs.transpose()) + self.bias)\n",
        "      \n",
        "        \n",
        "  \n",
        "\n",
        "  def train(self, inputs, outputs, epochs=1):   \n",
        "    t = tqdm.tqdm(range(epochs))\n",
        "    for epoch in t:\n",
        "      for i, inputn in enumerate(inputs):\n",
        "        delta = self.__predict(inputn) - outputs[i]\n",
        "        t.set_postfix({\"loss\": delta})\n",
        "        #print(delta, inputn, outputs[i], self.weights, self.bias)\n",
        "        self.weight_update(delta, inputn)\n",
        "\n",
        "  \n",
        "  def weight_update(self, delta, inputs):\n",
        "      self.weights = self.weights - self.alpha*delta*(inputs)\n",
        "      self.bias = self.bias - self.alpha*delta\n",
        "      #print(self.weights, self.bias)\n"
      ],
      "execution_count": 3,
      "outputs": []
    },
    {
      "cell_type": "markdown",
      "metadata": {
        "id": "Fwz2hp6-Mz7e"
      },
      "source": [
        "## Xor Gate is non linearly separable"
      ]
    },
    {
      "cell_type": "code",
      "metadata": {
        "id": "sPvQCxn-M47M"
      },
      "source": [
        "X = np.array([[0,0],\n",
        "     [0,1],\n",
        "     [1,0],\n",
        "     [1,1]\n",
        "     ])\n",
        "Y=np.array([0,1,1,0])"
      ],
      "execution_count": 4,
      "outputs": []
    },
    {
      "cell_type": "code",
      "metadata": {
        "id": "-DdEe0lJNDuo"
      },
      "source": [
        "# Mapping to a 1 D space\n",
        "def kernel_function(x):\n",
        "  return (x[0]-x[1])**2"
      ],
      "execution_count": 5,
      "outputs": []
    },
    {
      "cell_type": "code",
      "metadata": {
        "id": "gav8LY6uOF3c"
      },
      "source": [
        "perceptron = Perceptron(features=1)"
      ],
      "execution_count": 6,
      "outputs": []
    },
    {
      "cell_type": "markdown",
      "metadata": {
        "id": "ZXjtOiKaOMuW"
      },
      "source": [
        "### Before Training"
      ]
    },
    {
      "cell_type": "code",
      "metadata": {
        "colab": {
          "base_uri": "https://localhost:8080/",
          "height": 269
        },
        "id": "sJeFk2IkOSl6",
        "outputId": "8a9650fa-b06c-464c-d333-7cc6f45b8f91"
      },
      "source": [
        "\n",
        "x=np.linspace(-0.5, 1.5, 200)\n",
        "\n",
        "xx, yy = np.meshgrid(x, x)\n",
        "\n",
        "roi = np.array([xx.ravel(),yy.ravel()]).T\n",
        "Z = perceptron.predict(kernel_function([roi[:,0], roi[:,1]]))\n",
        "\n",
        "plt.contourf(xx, yy, Z.reshape(xx.shape), levels=1)\n",
        "plt.scatter(X[:,0],X[:,1])\n",
        "plt.xlim([-0.5,1.5])\n",
        "plt.ylim([-0.5,1.5])\n",
        "plt.colorbar();"
      ],
      "execution_count": 7,
      "outputs": [
        {
          "output_type": "display_data",
          "data": {
            "image/png": "[encoded data removed]",
            "text/plain": [
              "<Figure size 432x288 with 2 Axes>"
            ]
          },
          "metadata": {
            "tags": [],
            "needs_background": "light"
          }
        }
      ]
    },
    {
      "cell_type": "code",
      "metadata": {
        "colab": {
          "base_uri": "https://localhost:8080/"
        },
        "id": "Bk60t_r-UwCK",
        "outputId": "89338326-9cf1-4129-e522-b01bc706f6ac"
      },
      "source": [
        "perceptron.predict(np.array(kernel_function([X[:,0],X[:,1]]))) "
      ],
      "execution_count": 8,
      "outputs": [
        {
          "output_type": "execute_result",
          "data": {
            "text/plain": [
              "array([ True,  True,  True,  True])"
            ]
          },
          "metadata": {
            "tags": []
          },
          "execution_count": 8
        }
      ]
    },
    {
      "cell_type": "markdown",
      "metadata": {
        "id": "2JoJIY-_U7LK"
      },
      "source": [
        "## Training"
      ]
    },
    {
      "cell_type": "code",
      "metadata": {
        "colab": {
          "base_uri": "https://localhost:8080/"
        },
        "id": "UBCmBkvlU99D",
        "outputId": "9c6add68-22ef-479d-be1f-777c208680bb"
      },
      "source": [
        "perceptron.train(kernel_function(np.array([X[:,0], X[:,1]])),Y, epochs=20)"
      ],
      "execution_count": 9,
      "outputs": [
        {
          "output_type": "stream",
          "text": [
            "100%|██████████| 20/20 [00:00<00:00, 215.67it/s, loss=0]\n"
          ],
          "name": "stderr"
        }
      ]
    },
    {
      "cell_type": "code",
      "metadata": {
        "colab": {
          "base_uri": "https://localhost:8080/",
          "height": 269
        },
        "id": "S1cZ5tkCR8je",
        "outputId": "4d29f087-349b-4d89-fa0d-72af5fdea9c6"
      },
      "source": [
        "\n",
        "x=np.linspace(-0.5, 1.5, 200)\n",
        "\n",
        "xx, yy = np.meshgrid(x, x)\n",
        "\n",
        "roi = np.array([xx.ravel(),yy.ravel()]).T\n",
        "Z = perceptron.predict(kernel_function([roi[:,0], roi[:,1]]))\n",
        "\n",
        "plt.contourf(xx, yy, Z.reshape(xx.shape), levels=1)\n",
        "plt.scatter(X[:,0],X[:,1])\n",
        "plt.xlim([-0.5,1.5])\n",
        "plt.ylim([-0.5,1.5])\n",
        "plt.colorbar();"
      ],
      "execution_count": 10,
      "outputs": [
        {
          "output_type": "display_data",
          "data": {
            "image/png": "[encoded data removed]",
            "text/plain": [
              "<Figure size 432x288 with 2 Axes>"
            ]
          },
          "metadata": {
            "tags": [],
            "needs_background": "light"
          }
        }
      ]
    },
    {
      "cell_type": "code",
      "metadata": {
        "colab": {
          "base_uri": "https://localhost:8080/"
        },
        "id": "-TVnw9aKTUYV",
        "outputId": "a79881c3-634e-4d75-b7b0-b541f064e118"
      },
      "source": [
        "perceptron.predict(kernel_function(np.array([X[:,0], X[:,1]])))"
      ],
      "execution_count": 11,
      "outputs": [
        {
          "output_type": "execute_result",
          "data": {
            "text/plain": [
              "array([False,  True,  True, False])"
            ]
          },
          "metadata": {
            "tags": []
          },
          "execution_count": 11
        }
      ]
    },
    {
      "cell_type": "code",
      "metadata": {
        "id": "h0DZOsppTdX4"
      },
      "source": [
        ""
      ],
      "execution_count": 11,
      "outputs": []
    },
    {
      "cell_type": "code",
      "metadata": {
        "colab": {
          "base_uri": "https://localhost:8080/"
        },
        "id": "mEwa6aF2UAUE",
        "outputId": "56417567-9dbf-47f4-e0f7-451c928dd51f"
      },
      "source": [
        "X"
      ],
      "execution_count": 12,
      "outputs": [
        {
          "output_type": "execute_result",
          "data": {
            "text/plain": [
              "array([[0, 0],\n",
              "       [0, 1],\n",
              "       [1, 0],\n",
              "       [1, 1]])"
            ]
          },
          "metadata": {
            "tags": []
          },
          "execution_count": 12
        }
      ]
    },
    {
      "cell_type": "markdown",
      "metadata": {
        "id": "Eqr5FIylbq5J"
      },
      "source": [
        "## XNor Gate is non linearly separable"
      ]
    },
    {
      "cell_type": "code",
      "metadata": {
        "id": "29r4dHBJ3Vai"
      },
      "source": [
        "X = np.array([[0,0],\n",
        "     [0,1],\n",
        "     [1,0],\n",
        "     [1,1]\n",
        "     ])\n",
        "Y=np.array([1,0,0,1])"
      ],
      "execution_count": 13,
      "outputs": []
    },
    {
      "cell_type": "code",
      "metadata": {
        "id": "h5KLG7kB3cdh"
      },
      "source": [
        "perceptron = Perceptron(features=1)\n"
      ],
      "execution_count": 14,
      "outputs": []
    },
    {
      "cell_type": "code",
      "metadata": {
        "id": "EqmL0z5R3iuS",
        "colab": {
          "base_uri": "https://localhost:8080/",
          "height": 269
        },
        "outputId": "ae86c7b5-f88a-4278-8441-4a5b0fd77844"
      },
      "source": [
        "\n",
        "x=np.linspace(-0.5, 1.5, 200)\n",
        "\n",
        "xx, yy = np.meshgrid(x, x)\n",
        "\n",
        "roi = np.array([xx.ravel(),yy.ravel()]).T\n",
        "Z = perceptron.predict(kernel_function([roi[:,0], roi[:,1]]))\n",
        "\n",
        "plt.contourf(xx, yy, Z.reshape(xx.shape), levels=1)\n",
        "plt.scatter(X[:,0],X[:,1])\n",
        "plt.xlim([-0.5,1.5])\n",
        "plt.ylim([-0.5,1.5])\n",
        "plt.colorbar();"
      ],
      "execution_count": 15,
      "outputs": [
        {
          "output_type": "display_data",
          "data": {
            "image/png": "[encoded data removed]",
            "text/plain": [
              "<Figure size 432x288 with 2 Axes>"
            ]
          },
          "metadata": {
            "tags": [],
            "needs_background": "light"
          }
        }
      ]
    },
    {
      "cell_type": "code",
      "metadata": {
        "id": "Sys4SWDb3k4P",
        "colab": {
          "base_uri": "https://localhost:8080/"
        },
        "outputId": "59fc3027-8eec-4c4f-e8f3-fd39943fb79b"
      },
      "source": [
        "perceptron.predict(kernel_function(np.array([X[:,0], X[:,1]])))"
      ],
      "execution_count": 16,
      "outputs": [
        {
          "output_type": "execute_result",
          "data": {
            "text/plain": [
              "array([ True,  True,  True,  True])"
            ]
          },
          "metadata": {
            "tags": []
          },
          "execution_count": 16
        }
      ]
    },
    {
      "cell_type": "code",
      "metadata": {
        "id": "cJYM6nX-3sce",
        "colab": {
          "base_uri": "https://localhost:8080/"
        },
        "outputId": "f6418f34-125f-496b-b60b-34267441445e"
      },
      "source": [
        "perceptron.train(kernel_function(np.array([X[:,0], X[:,1]])),Y, epochs=20)"
      ],
      "execution_count": 17,
      "outputs": [
        {
          "output_type": "stream",
          "text": [
            "100%|██████████| 20/20 [00:00<00:00, 299.11it/s, loss=0]\n"
          ],
          "name": "stderr"
        }
      ]
    },
    {
      "cell_type": "code",
      "metadata": {
        "id": "PqbkZLmt4G4S",
        "colab": {
          "base_uri": "https://localhost:8080/",
          "height": 269
        },
        "outputId": "456bdd06-8e07-4a16-d67d-a00525b502ca"
      },
      "source": [
        "\n",
        "x=np.linspace(-0.5, 1.5, 200)\n",
        "\n",
        "xx, yy = np.meshgrid(x, x)\n",
        "\n",
        "roi = np.array([xx.ravel(),yy.ravel()]).T\n",
        "Z = perceptron.predict(kernel_function([roi[:,0], roi[:,1]]))\n",
        "\n",
        "plt.contourf(xx, yy, Z.reshape(xx.shape), levels=1)\n",
        "plt.scatter(X[:,0],X[:,1])\n",
        "plt.xlim([-0.5,1.5])\n",
        "plt.ylim([-0.5,1.5])\n",
        "plt.colorbar();"
      ],
      "execution_count": 18,
      "outputs": [
        {
          "output_type": "display_data",
          "data": {
            "image/png": "[encoded data removed]",
            "text/plain": [
              "<Figure size 432x288 with 2 Axes>"
            ]
          },
          "metadata": {
            "tags": [],
            "needs_background": "light"
          }
        }
      ]
    },
    {
      "cell_type": "code",
      "metadata": {
        "id": "UZIJ4t7O4ILX"
      },
      "source": [
        ""
      ],
      "execution_count": 18,
      "outputs": []
    }
  ]
}